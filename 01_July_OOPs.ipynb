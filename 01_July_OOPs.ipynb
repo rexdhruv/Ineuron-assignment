{
 "cells": [
  {
   "cell_type": "markdown",
   "id": "681b9ce9",
   "metadata": {},
   "source": [
    "#### 1. What is the primary goal of Object-Oriented Programming (OOP)?"
   ]
  },
  {
   "cell_type": "markdown",
   "id": "e581c515",
   "metadata": {},
   "source": [
    "The primary goal of Object-Oriented Programming (OOP) is to organize and structure code by modeling \n",
    "real-world entities as objects. It promotes encapsulation, allowing data and methods to be bundled \n",
    "within objects, enhancing modularity."
   ]
  },
  {
   "cell_type": "markdown",
   "id": "4449ec62",
   "metadata": {},
   "source": [
    "#### 2. What is an object in Python?"
   ]
  },
  {
   "cell_type": "markdown",
   "id": "34bbd1ce",
   "metadata": {},
   "source": [
    "Objects are variables that contain data and functions that can be used to manipulate the data. \n",
    "The object's data can vary in type (string, integer, float, etc) depending on how it's been defined. \n",
    "An object is like a mini program inside python, with its own set of rules and behaviour."
   ]
  },
  {
   "cell_type": "markdown",
   "id": "2c01b634",
   "metadata": {},
   "source": [
    "#### 3. What is a class in Python?"
   ]
  },
  {
   "cell_type": "markdown",
   "id": "f39e797b",
   "metadata": {},
   "source": [
    "A class in python is the collection of python objects, along with functions and data related to those objects."
   ]
  },
  {
   "cell_type": "markdown",
   "id": "9cbfe96b",
   "metadata": {},
   "source": [
    "#### What are attributes and methods in a class?"
   ]
  },
  {
   "cell_type": "markdown",
   "id": "20febb55",
   "metadata": {},
   "source": [
    "Attributes are variables that belong to an object and contain information about its properties and characteristics. \n",
    "They can be used to represent details or facts related to the object. \n",
    "\n",
    "Methods are the functions belonging to an object and are designed to perform actions or operations involving the \n",
    "object's attributes"
   ]
  },
  {
   "cell_type": "code",
   "execution_count": 1,
   "id": "a6647109",
   "metadata": {},
   "outputs": [
    {
     "name": "stdout",
     "output_type": "stream",
     "text": [
      "Dhruv\n",
      "Jamshedpur\n",
      "Hi!\n"
     ]
    }
   ],
   "source": [
    "## Examole\n",
    "\n",
    "class Boy:\n",
    " \n",
    "    # Attributes\n",
    "    name = 'Dhruv'\n",
    "    address = 'Jamshedpur'\n",
    "\n",
    "    # Methods\n",
    "    def intro(self):\n",
    "        print('Hi!')\n",
    "\n",
    "# Create an instance of the Boy class\n",
    "my_intro = Boy()\n",
    "\n",
    "# Access the attributes of the instance\n",
    "print(my_intro.name)\n",
    "print(my_intro.address)\n",
    "\n",
    "# Call the intro() method\n",
    "my_intro.intro()"
   ]
  },
  {
   "cell_type": "markdown",
   "id": "c43b4bb6",
   "metadata": {},
   "source": [
    "#### 5. What is the difference between class variables and instance variables in Python?"
   ]
  },
  {
   "cell_type": "markdown",
   "id": "b6e0329d",
   "metadata": {},
   "source": [
    "Class Variables:\n",
    "\n",
    "* Class variables are shared among all instances (objects) of a class. They are defined within the class but outside of any method.\n",
    "* These variables are the same for every instance of the class and are typically used to store data that is common to all instances.\n",
    "* They are accessed using the class name, not the instance name, and can be modified using the class name as well."
   ]
  },
  {
   "cell_type": "code",
   "execution_count": 2,
   "id": "96c6f125",
   "metadata": {},
   "outputs": [
    {
     "name": "stdout",
     "output_type": "stream",
     "text": [
      "10\n",
      "10\n",
      "10\n",
      "20\n",
      "20\n"
     ]
    }
   ],
   "source": [
    "class MyClass:\n",
    "    class_variable = 10\n",
    "\n",
    "obj1 = MyClass()\n",
    "obj2 = MyClass()\n",
    "\n",
    "print(obj1.class_variable)  # Accessing class variable using instance\n",
    "print(obj2.class_variable)\n",
    "\n",
    "print(MyClass.class_variable)  # Accessing class variable using class name\n",
    "\n",
    "MyClass.class_variable = 20  # Modifying class variable using class name\n",
    "\n",
    "print(obj1.class_variable)  # Changes are reflected in all instances\n",
    "print(obj2.class_variable)"
   ]
  },
  {
   "cell_type": "markdown",
   "id": "a12cb2e1",
   "metadata": {},
   "source": [
    "Instance Variables:\n",
    "\n",
    "* Instance variables are specific to each instance of a class. They are defined within methods using the self keyword.\n",
    "* Each object of the class can have different values for these variables, allowing instances to have their own unique state.\n",
    "* Instance variables are accessed using the instance name and can be modified on a per-instance basis."
   ]
  },
  {
   "cell_type": "code",
   "execution_count": 3,
   "id": "942a20b8",
   "metadata": {},
   "outputs": [
    {
     "name": "stdout",
     "output_type": "stream",
     "text": [
      "5\n",
      "10\n",
      "15\n",
      "10\n"
     ]
    }
   ],
   "source": [
    "class MyClass:\n",
    "    def __init__(self, instance_variable):\n",
    "        self.instance_variable = instance_variable\n",
    "\n",
    "obj1 = MyClass(5)\n",
    "obj2 = MyClass(10)\n",
    "\n",
    "print(obj1.instance_variable)  # Accessing instance variable\n",
    "print(obj2.instance_variable)\n",
    "\n",
    "obj1.instance_variable = 15  # Modifying instance variable for a specific instance\n",
    "\n",
    "print(obj1.instance_variable)  # Changes are independent for each instance\n",
    "print(obj2.instance_variable)\n"
   ]
  },
  {
   "cell_type": "markdown",
   "id": "b2c42205",
   "metadata": {},
   "source": [
    "#### 6. What is the purpose of the self parameter in Python class methods?"
   ]
  },
  {
   "cell_type": "markdown",
   "id": "740adb2f",
   "metadata": {},
   "source": [
    "In Python class methods, the self parameter is a reference to the instance of the class. \n",
    "It is a convention (not a keyword) that represents the instance on which the method is \n",
    "called. By using self, you can access and manipulate the instance variables and call other \n",
    "instance methods within the class."
   ]
  },
  {
   "cell_type": "code",
   "execution_count": 4,
   "id": "9671fffc",
   "metadata": {},
   "outputs": [
    {
     "name": "stdout",
     "output_type": "stream",
     "text": [
      "42\n"
     ]
    }
   ],
   "source": [
    "class MyClass:\n",
    "    def __init__(self, x):\n",
    "        self.x = x\n",
    "\n",
    "    def print_value(self):\n",
    "        print(self.x)\n",
    "\n",
    "obj = MyClass(42)\n",
    "obj.print_value()  # Equivalent to MyClass.print_value(obj)\n"
   ]
  },
  {
   "cell_type": "markdown",
   "id": "83beed70",
   "metadata": {},
   "source": [
    "#### 7. For a library management system, you have to design the \"Book\" class with OOP principles in mind. The “Book” class will have following attributes:\n",
    "\n",
    "* title: Represents the title of the book.\n",
    "* author: Represents the author(s) of the book.\n",
    "* isbn: Represents the ISBN (International Standard Book Number) of the book.\n",
    "* publication_year: Represents the year of publication of the book.\n",
    "* available_copies: Represents the number of copies available for checkout.\n",
    "\n",
    "\n",
    "The class will also include the following methods:\n",
    "\n",
    "* check_out(self): Decrements the available copies by one if there are copies available for checkout.\n",
    "* return_book(self): Increments the available copies by one when a book is returned.\n",
    "* display_book_info(self): Displays the information about the book, including its attributes and the number of available copies."
   ]
  },
  {
   "cell_type": "code",
   "execution_count": 10,
   "id": "24d2908c",
   "metadata": {},
   "outputs": [
    {
     "name": "stdout",
     "output_type": "stream",
     "text": [
      "Book Information:\n",
      "Title: The Secret of the Nagas\n",
      "Author: Amish Tripathi\n",
      "ISBN: 978-9356290600\n",
      "Publication Year: 2011\n",
      "Available Copies: 10\n",
      "-----------------------------------------------------------------------\n",
      "Book 'The Secret of the Nagas' checked out successfully.\n",
      "-------------------------------------------------------------------\n",
      "Book Information:\n",
      "Title: The Secret of the Nagas\n",
      "Author: Amish Tripathi\n",
      "ISBN: 978-9356290600\n",
      "Publication Year: 2011\n",
      "Available Copies: 9\n",
      "-----------------------------------------------------------------------\n",
      "Book 'The Secret of the Nagas' returned successfully.\n",
      "-----------------------------------------------------------------------\n",
      "Book Information:\n",
      "Title: The Secret of the Nagas\n",
      "Author: Amish Tripathi\n",
      "ISBN: 978-9356290600\n",
      "Publication Year: 2011\n",
      "Available Copies: 10\n",
      "-----------------------------------------------------------------------\n",
      "Book Information:\n",
      "Title: The Pythonic Way\n",
      "Author: John Doe\n",
      "ISBN: 978-1-234567-89-0\n",
      "Publication Year: 2023\n",
      "Available Copies: 5\n",
      "-----------------------------------------------------------------------\n",
      "Book 'The Pythonic Way' checked out successfully.\n",
      "-------------------------------------------------------------------\n",
      "Book Information:\n",
      "Title: The Pythonic Way\n",
      "Author: John Doe\n",
      "ISBN: 978-1-234567-89-0\n",
      "Publication Year: 2023\n",
      "Available Copies: 4\n",
      "-----------------------------------------------------------------------\n",
      "Book 'The Pythonic Way' returned successfully.\n",
      "-----------------------------------------------------------------------\n",
      "Book Information:\n",
      "Title: The Pythonic Way\n",
      "Author: John Doe\n",
      "ISBN: 978-1-234567-89-0\n",
      "Publication Year: 2023\n",
      "Available Copies: 5\n",
      "-----------------------------------------------------------------------\n"
     ]
    }
   ],
   "source": [
    "class Book:\n",
    "    def __init__(self, title, author, isbn, publication_year, available_copies):\n",
    "        self.title = title\n",
    "        self.author = author\n",
    "        self.isbn = isbn\n",
    "        self.publication_year = publication_year\n",
    "        self.available_copies = available_copies\n",
    "\n",
    "    def check_out(self):\n",
    "        if self.available_copies > 0:\n",
    "            self.available_copies -= 1\n",
    "            print(f\"Book '{self.title}' checked out successfully.\")\n",
    "            print(\"-------------------------------------------------------------------\")\n",
    "        else:\n",
    "            print(f\"Sorry, '{self.title}' is currently not available for checkout.\")\n",
    "            print(\"-------------------------------------------------------------------\")\n",
    "\n",
    "    def return_book(self):\n",
    "        self.available_copies += 1\n",
    "        print(f\"Book '{self.title}' returned successfully.\")\n",
    "        print(\"-----------------------------------------------------------------------\")\n",
    "\n",
    "    def display_book_info(self):\n",
    "        print(f\"Book Information:\\nTitle: {self.title}\\nAuthor: {self.author}\\nISBN: {self.isbn}\\n\"\n",
    "              f\"Publication Year: {self.publication_year}\\nAvailable Copies: {self.available_copies}\")\n",
    "        print(\"-----------------------------------------------------------------------\")\n",
    "\n",
    "\n",
    "# Example usage 1:\n",
    "book1 = Book(\"The Secret of the Nagas\", \"Amish Tripathi\", \"978-9356290600\", 2011, 10)\n",
    "\n",
    "book1.display_book_info()\n",
    "\n",
    "book1.check_out()\n",
    "book1.display_book_info()\n",
    "\n",
    "book1.return_book()\n",
    "book1.display_book_info()\n",
    "\n",
    "# Example usage 2:\n",
    "book2 = Book(\"The Pythonic Way\", \"John Doe\", \"978-1-234567-89-0\", 2023, 5)\n",
    "\n",
    "book2.display_book_info()\n",
    "\n",
    "book2.check_out()\n",
    "book2.display_book_info()\n",
    "\n",
    "book2.return_book()\n",
    "book2.display_book_info()\n"
   ]
  },
  {
   "cell_type": "markdown",
   "id": "4c1148d3",
   "metadata": {},
   "source": [
    "#### 8. For a ticket booking system, you have to design the \"Ticket\" class with OOP principles in mind. The “Ticket” class should have the following attributes:\n",
    "* ticket_id: Represents the unique identifier for the ticket.\n",
    "* event_name: Represents the name of the event.\n",
    "* event_date: Represents the date of the event.\n",
    "* venue: Represents the venue of the event.\n",
    "* seat_number: Represents the seat number associated with the ticket.\n",
    "* price: Represents the price of the ticket.\n",
    "* is_reserved: Represents the reservation status of the ticket.\n",
    "\n",
    "\n",
    "The class also includes the following methods:\n",
    "* reserve_ticket(self): Marks the ticket as reserved if it is not already reserved.\n",
    "* cancel_reservation(self): Cancels the reservation of the ticket if it is already\n",
    "reserved.\n",
    "* display_ticket_info(self): Displays the information about the ticket, including its\n",
    "attributes and reservation status."
   ]
  },
  {
   "cell_type": "code",
   "execution_count": 12,
   "id": "f1a48693",
   "metadata": {},
   "outputs": [
    {
     "name": "stdout",
     "output_type": "stream",
     "text": [
      "Ticket Information:\n",
      "ID: 1\n",
      "Event: Concert\n",
      "Date: 2024-03-15\n",
      "Venue: Music Hall\n",
      "Seat Number: A101\n",
      "Price: $50.0\n",
      "Reservation Status: Not Reserved\n",
      "-----------------------------------------------------------------------\n",
      "Ticket 1 reserved successfully.\n",
      "-----------------------------------------------------------------------\n",
      "Ticket Information:\n",
      "ID: 1\n",
      "Event: Concert\n",
      "Date: 2024-03-15\n",
      "Venue: Music Hall\n",
      "Seat Number: A101\n",
      "Price: $50.0\n",
      "Reservation Status: Reserved\n",
      "-----------------------------------------------------------------------\n",
      "Reservation for Ticket 1 canceled.\n",
      "-----------------------------------------------------------------------\n",
      "Ticket Information:\n",
      "ID: 1\n",
      "Event: Concert\n",
      "Date: 2024-03-15\n",
      "Venue: Music Hall\n",
      "Seat Number: A101\n",
      "Price: $50.0\n",
      "Reservation Status: Not Reserved\n",
      "-----------------------------------------------------------------------\n"
     ]
    }
   ],
   "source": [
    "class Ticket:\n",
    "    def __init__(self, ticket_id, event_name, event_date, venue, seat_number, price):\n",
    "        self.ticket_id = ticket_id\n",
    "        self.event_name = event_name\n",
    "        self.event_date = event_date\n",
    "        self.venue = venue\n",
    "        self.seat_number = seat_number\n",
    "        self.price = price\n",
    "        self.is_reserved = False\n",
    "\n",
    "    def reserve_ticket(self):\n",
    "        if not self.is_reserved:\n",
    "            self.is_reserved = True\n",
    "            print(f\"Ticket {self.ticket_id} reserved successfully.\")\n",
    "            print(\"-----------------------------------------------------------------------\")\n",
    "\n",
    "        else:\n",
    "            print(f\"This ticket is already reserved.\")\n",
    "            print(\"-----------------------------------------------------------------------\")\n",
    "\n",
    "\n",
    "    def cancel_reservation(self):\n",
    "        if self.is_reserved:\n",
    "            self.is_reserved = False\n",
    "            print(f\"Reservation for Ticket {self.ticket_id} canceled.\")\n",
    "            print(\"-----------------------------------------------------------------------\")\n",
    "\n",
    "        else:\n",
    "            print(f\"This ticket is not reserved.\")\n",
    "            print(\"-----------------------------------------------------------------------\")\n",
    "\n",
    "\n",
    "    def display_ticket_info(self):\n",
    "        reservation_status = \"Reserved\" if self.is_reserved else \"Not Reserved\"\n",
    "        print(f\"Ticket Information:\\nID: {self.ticket_id}\\nEvent: {self.event_name}\\nDate: {self.event_date}\\n\"\n",
    "              f\"Venue: {self.venue}\\nSeat Number: {self.seat_number}\\nPrice: ${self.price}\\n\"\n",
    "              f\"Reservation Status: {reservation_status}\")\n",
    "        print(\"-----------------------------------------------------------------------\")\n",
    "\n",
    "\n",
    "\n",
    "# Example usage:\n",
    "ticket1 = Ticket(1, \"Concert\", \"2024-03-15\", \"Music Hall\", \"A101\", 50.0)\n",
    "\n",
    "ticket1.display_ticket_info()\n",
    "\n",
    "ticket1.reserve_ticket()\n",
    "ticket1.display_ticket_info()\n",
    "\n",
    "ticket1.cancel_reservation()\n",
    "ticket1.display_ticket_info()\n"
   ]
  },
  {
   "cell_type": "markdown",
   "id": "3d54053b",
   "metadata": {},
   "source": [
    "#### 9. You are creating a shopping cart for an e-commerce website. Using OOP to modelthe \"ShoppingCart\" functionality the class should contain following attributes and methods:\n",
    "* items: Represents the list of items in the shopping cart.\n",
    "The class also includes the following methods:\n",
    "* add_item(self, item): Adds an item to the shopping cart by appending it to the\n",
    "list of items.\n",
    "* remove_item(self, item): Removes an item from the shopping cart if it exists in\n",
    "the list.\n",
    "* view_cart(self): Displays the items currently present in the shopping cart.\n",
    "* clear_cart(self): Clears all items from the shopping cart by reassigning an\n",
    "empty list to the items attribute."
   ]
  },
  {
   "cell_type": "code",
   "execution_count": 14,
   "id": "8f1fc15c",
   "metadata": {},
   "outputs": [
    {
     "name": "stdout",
     "output_type": "stream",
     "text": [
      "Item 'Product1' added to the shopping cart.\n",
      "-----------------------------------------------------------------------\n",
      "Item 'Product2' added to the shopping cart.\n",
      "-----------------------------------------------------------------------\n",
      "Items in the shopping cart:\n",
      "-----------------------------------------------------------------------\n",
      "- Product1\n",
      "-----------------------------------------------------------------------\n",
      "- Product2\n",
      "-----------------------------------------------------------------------\n",
      "Item 'Product1' removed from the shopping cart.\n",
      "-----------------------------------------------------------------------\n",
      "Items in the shopping cart:\n",
      "-----------------------------------------------------------------------\n",
      "- Product2\n",
      "-----------------------------------------------------------------------\n",
      "Shopping cart cleared.\n",
      "-----------------------------------------------------------------------\n",
      "The shopping cart is empty.\n",
      "-----------------------------------------------------------------------\n"
     ]
    }
   ],
   "source": [
    "class ShoppingCart:\n",
    "    def __init__(self):\n",
    "        self.items = []\n",
    "\n",
    "    def add_item(self, item):\n",
    "        self.items.append(item)\n",
    "        print(f\"Item '{item}' added to the shopping cart.\")\n",
    "        print(\"-----------------------------------------------------------------------\")\n",
    "\n",
    "    def remove_item(self, item):\n",
    "        if item in self.items:\n",
    "            self.items.remove(item)\n",
    "            print(f\"Item '{item}' removed from the shopping cart.\")\n",
    "            print(\"-----------------------------------------------------------------------\")\n",
    "        else:\n",
    "            print(f\"Item '{item}' not found in the shopping cart.\")\n",
    "            print(\"-----------------------------------------------------------------------\")\n",
    "\n",
    "    def view_cart(self):\n",
    "        if not self.items:\n",
    "            print(\"The shopping cart is empty.\")\n",
    "            print(\"-----------------------------------------------------------------------\")\n",
    "        else:\n",
    "            print(\"Items in the shopping cart:\")\n",
    "            print(\"-----------------------------------------------------------------------\")\n",
    "            for item in self.items:\n",
    "                print(f\"- {item}\")\n",
    "                print(\"-----------------------------------------------------------------------\")\n",
    "\n",
    "    def clear_cart(self):\n",
    "        self.items = []\n",
    "        print(\"Shopping cart cleared.\")\n",
    "        print(\"-----------------------------------------------------------------------\")\n",
    "\n",
    "# Example usage:\n",
    "cart = ShoppingCart()\n",
    "\n",
    "cart.add_item(\"Product1\")\n",
    "cart.add_item(\"Product2\")\n",
    "cart.view_cart()\n",
    "\n",
    "cart.remove_item(\"Product1\")\n",
    "cart.view_cart()\n",
    "\n",
    "cart.clear_cart()\n",
    "cart.view_cart()\n"
   ]
  },
  {
   "cell_type": "markdown",
   "id": "75e809c7",
   "metadata": {},
   "source": [
    "#### 10. Imagine a school management system. You have to design the \"Student\" class using OOP concepts.The “Student” class has the following attributes:\n",
    "* name: Represents the name of the student.\n",
    "* age: Represents the age of the student.\n",
    "* grade: Represents the grade or class of the student.\n",
    "* student_id: Represents the unique identifier for the student.\n",
    "* attendance: Represents the attendance record of the student.\n",
    "\n",
    "The class should also include the following methods:\n",
    "* update_attendance(self, date, status): Updates the attendance record of the student for a given date with the provided status (e.g., present or absent).\n",
    "* get_attendance(self): Returns the attendance record of the student.\n",
    "* get_average_attendance(self): Calculates and returns the average attendance percentage of the student based on their attendance record."
   ]
  },
  {
   "cell_type": "code",
   "execution_count": 17,
   "id": "edc0bfc1",
   "metadata": {},
   "outputs": [
    {
     "name": "stdout",
     "output_type": "stream",
     "text": [
      "Attendance for Dhruv on 2024-01-20 updated: Present\n",
      "Attendance for Dhruv on 2024-01-21 updated: Absent\n",
      "Attendance record for Dhruv: {'2024-01-20': 'Present', '2024-01-21': 'Absent'}\n",
      "Average attendance for Dhruv: 50.0%\n"
     ]
    }
   ],
   "source": [
    "class Student:\n",
    "    def __init__(self, name, age, grade, student_id):\n",
    "        self.name = name\n",
    "        self.age = age\n",
    "        self.grade = grade\n",
    "        self.student_id = student_id\n",
    "        self.attendance = {}  # Using a dictionary to store attendance with dates as keys\n",
    "\n",
    "    def update_attendance(self, date, status):\n",
    "        self.attendance[date] = status\n",
    "        print(f\"Attendance for {self.name} on {date} updated: {status}\")\n",
    "\n",
    "    def get_attendance(self):\n",
    "        return self.attendance\n",
    "\n",
    "    def get_average_attendance(self):\n",
    "        if not self.attendance:\n",
    "            return 0.0\n",
    "\n",
    "        total_days = len(self.attendance)\n",
    "        present_days = sum(1 for status in self.attendance.values() if status.lower() == 'present')\n",
    "        average_percentage = (present_days / total_days) * 100\n",
    "        return round(average_percentage, 2)\n",
    "\n",
    "# Example usage:\n",
    "student1 = Student(\"Dhruv\", 28, \"Full Stack Data Science Masters\", \"654\")\n",
    "\n",
    "student1.update_attendance(\"2024-01-20\", \"Present\")\n",
    "student1.update_attendance(\"2024-01-21\", \"Absent\")\n",
    "\n",
    "print(f\"Attendance record for {student1.name}: {student1.get_attendance()}\")\n",
    "\n",
    "average_attendance = student1.get_average_attendance()\n",
    "print(f\"Average attendance for {student1.name}: {average_attendance}%\")\n"
   ]
  },
  {
   "cell_type": "code",
   "execution_count": null,
   "id": "e4b23a19",
   "metadata": {},
   "outputs": [],
   "source": []
  }
 ],
 "metadata": {
  "kernelspec": {
   "display_name": "Python 3 (ipykernel)",
   "language": "python",
   "name": "python3"
  },
  "language_info": {
   "codemirror_mode": {
    "name": "ipython",
    "version": 3
   },
   "file_extension": ".py",
   "mimetype": "text/x-python",
   "name": "python",
   "nbconvert_exporter": "python",
   "pygments_lexer": "ipython3",
   "version": "3.11.5"
  }
 },
 "nbformat": 4,
 "nbformat_minor": 5
}
