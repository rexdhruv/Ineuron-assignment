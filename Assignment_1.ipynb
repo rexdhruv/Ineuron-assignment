{
 "cells": [
  {
   "cell_type": "markdown",
   "id": "cc38b5ce",
   "metadata": {},
   "source": [
    "#### 1. In the below elements which of them are values or an expression? eg:- values can be integer or string and expressions will be mathematical operators."
   ]
  },
  {
   "cell_type": "markdown",
   "id": "6d6714b1",
   "metadata": {},
   "source": [
    "* \"*\" - mathematical operators\n",
    "* \"hello\" - string value\n",
    "* \"-87.8\" - float value\n",
    "* \"-\" - mathematical operators\n",
    "* \"/\" - mathematical operators\n",
    "* \"+\" - mathematical operators\n",
    "* \"6\" - integer value"
   ]
  },
  {
   "cell_type": "markdown",
   "id": "82c47f44",
   "metadata": {},
   "source": [
    "#### 2. What is the difference between string and variable?"
   ]
  },
  {
   "cell_type": "markdown",
   "id": "9ce4141e",
   "metadata": {},
   "source": [
    "String - A string is a data type used to represent text or a sequence of characters. \n",
    "For example, \"hello\", \"12345\", or \"apple\" are all strings. In programming, strings are enclosed within quotation marks (either single ' ' or double \" \"). Strings can contain letters, numbers, symbols, and spaces."
   ]
  },
  {
   "cell_type": "markdown",
   "id": "f2438611",
   "metadata": {},
   "source": [
    "Variable - A variable is a container used to store different types of data, including strings."
   ]
  },
  {
   "cell_type": "markdown",
   "id": "e739a835",
   "metadata": {},
   "source": [
    "#### 3. Describe three different data types."
   ]
  },
  {
   "cell_type": "markdown",
   "id": "9ebc204a",
   "metadata": {},
   "source": [
    "The three commonly used data types are\n",
    "1. Integer (int)\n",
    " - Integers are used to represent whole numbers, both positive and negative, without any decimal points.\n",
    " - Examples: -3, 0, 42, 1001.\n",
    " - Integers are often used for counting, indexing, or representing quantities that cannot be fractional.\n",
    " \n",
    "2. Float\n",
    " - Floats are used to represent numbers that have a decimal point or are expressed in scientific notation.\n",
    " - Examples: -3.14, 0.5, 2.71828, 1.0e-5 (scientific notation).\n",
    " - Floats are used when precision in decimal values is required, such as in calculations involving measurements or scientific data.\n",
    " \n",
    "3. String:\n",
    "\n",
    " - Strings are used to represent sequences of characters, such as letters, numbers, and symbols.\n",
    " - Examples: \"hello\", \"12345\", \"Hi, My name is Dhruv\".\n",
    " - Strings are commonly used for representing text data, including names, sentences, file paths, and more."
   ]
  },
  {
   "cell_type": "markdown",
   "id": "385bf8d9",
   "metadata": {},
   "source": [
    "#### 4. What is an expression made up of? What do all expressions do?"
   ]
  },
  {
   "cell_type": "markdown",
   "id": "ab8f8ce1",
   "metadata": {},
   "source": [
    "An expression is made up of variables, operators, and sometimes function calls that result in a single value. Essentially, an expression is any valid combination of code that evaluates to a value."
   ]
  },
  {
   "cell_type": "code",
   "execution_count": 2,
   "id": "f3de12ef",
   "metadata": {},
   "outputs": [
    {
     "name": "stdout",
     "output_type": "stream",
     "text": [
      "15\n"
     ]
    }
   ],
   "source": [
    "x = 5  # Assignment statement (not an expression)\n",
    "y = 10  # Assignment statement (not an expression)\n",
    "result = x + y  # Expression involving variables and an operator (+)\n",
    "print(result) # Output Statement"
   ]
  },
  {
   "cell_type": "markdown",
   "id": "8cb97189",
   "metadata": {},
   "source": [
    "#### 5. This assignment statements, like spam = 10. What is the difference between an expression and a statement?"
   ]
  },
  {
   "cell_type": "markdown",
   "id": "4da7ecd8",
   "metadata": {},
   "source": [
    "Expressions produce a value, while statements perform actions or tasks. An expression is any combination of variables, operators, and literals that results in a single value, like 5 + 3 which evaluates to 8. A statement, on the other hand, is a complete line of code that performs some action or task, such as assigning a value (spam = 10) or printing a message (print(\"Hello\")). Statements can contain expressions, but not all expressions are statements."
   ]
  },
  {
   "cell_type": "markdown",
   "id": "f963e86d",
   "metadata": {},
   "source": [
    "#### 6. After running the following code, what does the variable bacon contain?\n",
    "\n",
    "bacon = 22\n",
    "\n",
    "bacon + 1"
   ]
  },
  {
   "cell_type": "markdown",
   "id": "36445f2c",
   "metadata": {},
   "source": [
    "bacon will still contain the value 22.\n",
    "\n",
    "In the first line, bacon is assigned the value 22.\n",
    "\n",
    "In the second line, bacon + 1 evaluates to 23, but this result is not stored anywhere or assigned to any variable."
   ]
  },
  {
   "cell_type": "markdown",
   "id": "340a592e",
   "metadata": {},
   "source": [
    "#### 7. What should the values of the following two terms be?\n",
    "\n",
    "\"spam\" + \"spamspam\" \n",
    "\n",
    "\"spam\" * 3"
   ]
  },
  {
   "cell_type": "markdown",
   "id": "ff5ad0a5",
   "metadata": {},
   "source": [
    "\"spam\" + \"spamspam\" = \"spamspamspam\"\n",
    "\n",
    "\"spam\" * 3 = \"spamspamspam\""
   ]
  },
  {
   "cell_type": "markdown",
   "id": "63b80ba5",
   "metadata": {},
   "source": [
    "#### 8. Why is eggs a valid variable name while 100 is invalid?"
   ]
  },
  {
   "cell_type": "markdown",
   "id": "0cf7d2c6",
   "metadata": {},
   "source": [
    "In Python, variable names must follow certain rules:\n",
    "* Variable names must start with a letter (a-z, A-Z) or an underscore (_). They cannot start with a number.\n",
    "* After the first character, variable names can contain letters, numbers, or underscores."
   ]
  },
  {
   "cell_type": "markdown",
   "id": "b1b3e4b3",
   "metadata": {},
   "source": [
    "\"eggs\" is a valid variable name because it starts with a letter ('e').\n",
    "\n",
    "\"100\" is not a valid variable name because it starts with a number ('1')."
   ]
  },
  {
   "cell_type": "markdown",
   "id": "3d0e2695",
   "metadata": {},
   "source": [
    "#### 9. What three functions can be used to get the integer, floating-point number, or string version of a value?"
   ]
  },
  {
   "cell_type": "markdown",
   "id": "2ad4f5e9",
   "metadata": {},
   "source": [
    "int(): This function converts a value to an integer. For example, int(5.6) will return 5.\n",
    "\n",
    "float(): This function converts a value to a floating-point number (a number with a decimal point). For example, float(5) will return 5.0.\n",
    "\n",
    "str(): This function converts a value to a string. For example, str(5) will return \"5\" as a string."
   ]
  },
  {
   "cell_type": "markdown",
   "id": "64443ac0",
   "metadata": {},
   "source": [
    "#### 10. Why does this expression cause an error? How can you fix it?\n",
    "\"I have eaten \" + 99 + \" burritos.\""
   ]
  },
  {
   "cell_type": "markdown",
   "id": "d44083b0",
   "metadata": {},
   "source": [
    "This expression causes an error because you're trying to concatenate a string (\"I have eaten \") with an integer (99) and another string (\" burritos.\"). \n",
    "In Python, you can only concatenate strings with other strings, not with integers directly."
   ]
  },
  {
   "cell_type": "code",
   "execution_count": 6,
   "id": "1d615269",
   "metadata": {},
   "outputs": [
    {
     "data": {
      "text/plain": [
       "'I have eaten 99 burritos.'"
      ]
     },
     "execution_count": 6,
     "metadata": {},
     "output_type": "execute_result"
    }
   ],
   "source": [
    "## it can be fixed as shown below\n",
    "\"I have eaten \" + str(99) + \" burritos.\""
   ]
  }
 ],
 "metadata": {
  "kernelspec": {
   "display_name": "Python 3 (ipykernel)",
   "language": "python",
   "name": "python3"
  },
  "language_info": {
   "codemirror_mode": {
    "name": "ipython",
    "version": 3
   },
   "file_extension": ".py",
   "mimetype": "text/x-python",
   "name": "python",
   "nbconvert_exporter": "python",
   "pygments_lexer": "ipython3",
   "version": "3.11.5"
  }
 },
 "nbformat": 4,
 "nbformat_minor": 5
}
