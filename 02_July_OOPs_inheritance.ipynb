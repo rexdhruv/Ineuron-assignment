{
 "cells": [
  {
   "cell_type": "markdown",
   "id": "e52ba906",
   "metadata": {},
   "source": [
    "## 1. Explain what inheritance is in object-oriented programming and why it is used."
   ]
  },
  {
   "cell_type": "markdown",
   "id": "fc52d36c",
   "metadata": {},
   "source": [
    "In object-oriented programming, inheritance allows a new class (subclass) to inherit attributes and behaviors from an existing class (superclass), promoting code reuse and hierarchy. It enables the subclass to extend or specialize the functionality of the superclass while inheriting its characteristics. Inheritance enhances code organization, reduces redundancy, facilitates polymorphism, and promotes efficient software development by leveraging existing code structures."
   ]
  },
  {
   "cell_type": "markdown",
   "id": "29f7a96e",
   "metadata": {},
   "source": [
    "## 2. Discuss the concept of single inheritance and multiple inheritance, highlighting their differences and advantages."
   ]
  },
  {
   "cell_type": "markdown",
   "id": "f53c6abd",
   "metadata": {},
   "source": [
    "#### Single Inheritance:\n",
    "\n",
    "* Single inheritance allows a class to inherit from only one parent class.\n",
    "* In this model, each class can have only one immediate superclass.\n",
    "* The subclass inherits all attributes and methods from its single superclass.\n",
    "* It promotes simplicity and a clear hierarchy but can limit flexibility in certain scenarios where multiple inheritance would be beneficial.\n",
    "\n",
    "#### Multiple Inheritance:\n",
    "\n",
    "* Multiple inheritance allows a class to inherit from multiple parent classes.\n",
    "* A subclass can inherit attributes and methods from multiple superclasses.\n",
    "* This approach allows for more complex class relationships and facilitates code reuse from multiple sources.\n",
    "* It provides greater flexibility but can lead to ambiguities and complexities, such as the diamond problem, where the same method or attribute is inherited from multiple paths in the class hierarchy."
   ]
  },
  {
   "cell_type": "markdown",
   "id": "9c182c42",
   "metadata": {},
   "source": [
    "## 3. Explain the terms \"base class\" and \"derived class\" in the context of inheritance."
   ]
  },
  {
   "cell_type": "markdown",
   "id": "4b44c375",
   "metadata": {},
   "source": [
    "#### Base Class:\n",
    "\n",
    "* Also known as the superclass or parent class.\n",
    "* The base class is the class from which other classes (derived classes or subclasses) inherit attributes and behaviors.\n",
    "* It defines the common characteristics and functionalities shared by its subclasses.\n",
    "* The base class serves as a template or blueprint upon which subclasses are built.\n",
    "* Base classes do not inherit from any other class in the hierarchy.\n",
    "\n",
    "#### Derived Class:\n",
    "\n",
    "* Also known as the subclass or child class.\n",
    "* The derived class is a class that inherits attributes and behaviors from a base class.\n",
    "* It extends or specializes the functionality of the base class by adding new attributes or methods, or by overriding existing ones.\n",
    "* A derived class can inherit from only one base class in single inheritance, but it can inherit from multiple base classes in multiple inheritance.\n",
    "* It can also define its own unique attributes and methods in addition to those inherited from the base class."
   ]
  },
  {
   "cell_type": "markdown",
   "id": "822cfe1a",
   "metadata": {},
   "source": [
    "## 4. What is the significance of the \"protected\" access modifier in inheritance? How does it differ from \"private\" and \"public\" modifiers?"
   ]
  },
  {
   "cell_type": "markdown",
   "id": "46c7b365",
   "metadata": {},
   "source": [
    "In object-oriented programming, access modifiers like \"protected,\" \"private,\" and \"public\" control the visibility and accessibility of class members (attributes and methods) to other classes and subclasses. \n",
    "\n",
    "Here's how they differ and the significance of the \"protected\" modifier, particularly in the context of inheritance:\n",
    "\n",
    "#### Private Modifier:\n",
    "\n",
    "* Private members are accessible only within the class in which they are declared.\n",
    "* They cannot be accessed or inherited by subclasses.\n",
    "* Private members are hidden from all other classes, including subclasses, and are meant to encapsulate internal implementation details.\n",
    "\n",
    "#### Protected Modifier:\n",
    "\n",
    "* Protected members are accessible within the class in which they are declared and by its subclasses.\n",
    "* Protected members are inherited by subclasses and can be accessed within those subclasses.\n",
    "* However, protected members are not accessible to classes that are not subclasses of the declaring class.\n",
    "* The significance of the \"protected\" modifier in inheritance is that it allows subclasses to access and potentially override inherited members, facilitating the extension and specialization of functionality while maintaining encapsulation.\n",
    "* It promotes code reusability and provides a controlled way for subclasses to interact with inherited members.\n",
    "\n",
    "#### Public Modifier:\n",
    "\n",
    "* Public members are accessible from any other class.\n",
    "* They can be accessed by any code that can access the instance of the class, including subclasses, unrelated classes, and even code outside the class hierarchy.\n",
    "* Public members provide the highest level of visibility and accessibility, making them suitable for defining the interface of a class that should be accessible to all other parts of the program."
   ]
  },
  {
   "cell_type": "markdown",
   "id": "512e8be1",
   "metadata": {},
   "source": [
    "## 5. What is the purpose of the \"super\" keyword in inheritance? Provide an example."
   ]
  },
  {
   "cell_type": "markdown",
   "id": "4fd6e2f3",
   "metadata": {},
   "source": [
    "In Python, the super() function is used to call methods and access attributes of the parent class (superclass) from within a subclass. It allows subclasses to invoke the methods of their superclass, facilitating code reuse and overriding."
   ]
  },
  {
   "cell_type": "code",
   "execution_count": 1,
   "id": "9e7a1b68",
   "metadata": {},
   "outputs": [
    {
     "name": "stdout",
     "output_type": "stream",
     "text": [
      "Canine\n",
      "Some generic animal sound\n",
      "Woof!\n"
     ]
    }
   ],
   "source": [
    "class Animal:\n",
    "    def __init__(self, species):\n",
    "        self.species = species\n",
    "\n",
    "    def make_sound(self):\n",
    "        print(\"Some generic animal sound\")\n",
    "\n",
    "\n",
    "class Dog(Animal):\n",
    "    def __init__(self, name, breed):\n",
    "        super().__init__(\"Canine\")\n",
    "        self.name = name\n",
    "        self.breed = breed\n",
    "\n",
    "    def make_sound(self):\n",
    "        super().make_sound()\n",
    "        print(\"Woof!\")\n",
    "\n",
    "\n",
    "# Creating an instance of Dog\n",
    "my_dog = Dog(\"Buddy\", \"Golden Retriever\")\n",
    "\n",
    "# Accessing attributes from the parent class\n",
    "print(my_dog.species)  # Output: Canine\n",
    "\n",
    "# Invoking method from the child class\n",
    "my_dog.make_sound()"
   ]
  },
  {
   "cell_type": "markdown",
   "id": "94e3d814",
   "metadata": {},
   "source": [
    "## 6. Create a base class called \"Vehicle\" with attributes like \"make\", \"model\", and \"year\". Then, create a derived class called \"Car\" that inherits from \"Vehicle\" and adds an attribute called \"fuel_type\". Implement appropriate methods in both classes."
   ]
  },
  {
   "cell_type": "code",
   "execution_count": 2,
   "id": "91d4acd1",
   "metadata": {},
   "outputs": [
    {
     "name": "stdout",
     "output_type": "stream",
     "text": [
      "Vehicle Information:\n",
      "Make: Toyota, Model: Supra, Year: 1993\n",
      "Fuel Type: Gasoline\n",
      "Make: Toyota, Model: Camry, Year: 2022\n",
      "Fuel Type: Gasoline\n"
     ]
    }
   ],
   "source": [
    "class Vehicle: #base class\n",
    "    def __init__(self, make, model, year): # attributes - make, model, year\n",
    "        self.make = make\n",
    "        self.model = model\n",
    "        self.year = year\n",
    "\n",
    "    def display_info(self):\n",
    "        print(f\"Make: {self.make}, Model: {self.model}, Year: {self.year}\")\n",
    "\n",
    "\n",
    "class Car(Vehicle): #class inherits vehicle class\n",
    "    def __init__(self, make, model, year, fuel_type): # attributes - make, model, year, fuel_type\n",
    "        super().__init__(make, model, year)\n",
    "        self.fuel_type = fuel_type\n",
    "\n",
    "    def display_info(self):\n",
    "        super().display_info()\n",
    "        print(f\"Fuel Type: {self.fuel_type}\")\n",
    "\n",
    "\n",
    "# Creating an instance of Car\n",
    "my_car1 = Car(\"Toyota\", \"Supra\", 1993, \"Gasoline\")\n",
    "my_car2 = Car(\"Toyota\", \"Camry\", 2022, \"Gasoline\")\n",
    "\n",
    "# Accessing attributes from the base class\n",
    "print(\"Vehicle Information:\")\n",
    "my_car1.display_info()\n",
    "my_car2.display_info()"
   ]
  },
  {
   "cell_type": "markdown",
   "id": "4c34144a",
   "metadata": {},
   "source": [
    "## 7. Create a base class called \"Employee\" with attributes like \"name\" and \"salary. \"Derive two classes, \"Manager\" and \"Developer,\" from \"Employee.\" Add an additional attribute called \"department\" for the \"Manager\" class and \"programming_language\" for the \"Developer\" class."
   ]
  },
  {
   "cell_type": "code",
   "execution_count": 3,
   "id": "6c3589f5",
   "metadata": {},
   "outputs": [],
   "source": [
    "class Employee:\n",
    "    def __init__ (self, name, salary):\n",
    "        self.name = name\n",
    "        self.salary = salary\n",
    "        \n",
    "class Manager(Employee):\n",
    "    def __init__ (self, name, salary, department):\n",
    "        # call the constructor of the base class\n",
    "        super().__init__(name,salary)\n",
    "        # add an additional attribute for manager\n",
    "        self.department = department\n",
    "        \n",
    "class Developer(Employee):\n",
    "    def __init__ (self, name, salary, programming_language):\n",
    "        # call the constructor of the base class\n",
    "        super().__init__(name,salary)\n",
    "        # add an additional attribute for Developer\n",
    "        self.programming_language = programming_language\n",
    "        \n",
    "# Creating instances of Manager and Developer\n",
    "manager1 = Manager(\"John Doe\", 80000, \"Engineering\")\n",
    "developer1 = Developer(\"Jane Smith\", 70000, \"Python\")"
   ]
  },
  {
   "cell_type": "code",
   "execution_count": 4,
   "id": "b147558f",
   "metadata": {},
   "outputs": [
    {
     "name": "stdout",
     "output_type": "stream",
     "text": [
      "Manager Information:\n",
      "Name: John Doe\n",
      "Salary: 80000\n",
      "Department: Engineering\n"
     ]
    }
   ],
   "source": [
    "# Accessing attributes\n",
    "print(\"Manager Information:\")\n",
    "print(\"Name:\", manager1.name)\n",
    "print(\"Salary:\", manager1.salary)\n",
    "print(\"Department:\", manager1.department)"
   ]
  },
  {
   "cell_type": "code",
   "execution_count": 5,
   "id": "f98aaf15",
   "metadata": {},
   "outputs": [
    {
     "name": "stdout",
     "output_type": "stream",
     "text": [
      "\n",
      "Developer Information:\n",
      "Name: Jane Smith\n",
      "Salary: 70000\n",
      "Programming Language: Python\n"
     ]
    }
   ],
   "source": [
    "\n",
    "print(\"\\nDeveloper Information:\")\n",
    "print(\"Name:\", developer1.name)\n",
    "print(\"Salary:\", developer1.salary)\n",
    "print(\"Programming Language:\", developer1.programming_language)"
   ]
  },
  {
   "cell_type": "markdown",
   "id": "65663122",
   "metadata": {},
   "source": [
    "## 8. Design a base class called \"Shape\" with attributes like \"colour\" and \"border_width.\" Create derived classes, \"Rectangle\" and \"Circle,\" that inherit from \"Shape\" and add specific attributes like \"length\" and \"width\" for the \"Rectangle\" class and \"radius\" for the \"Circle\" class."
   ]
  },
  {
   "cell_type": "code",
   "execution_count": 6,
   "id": "4ff10bbf",
   "metadata": {},
   "outputs": [],
   "source": [
    "class Shape:\n",
    "    def __init__(self, colour, border_width):\n",
    "        self.colour = colour\n",
    "        self.border_width = border_width\n",
    "\n",
    "\n",
    "class Rectangle(Shape):\n",
    "    def __init__(self, colour, border_width, length, width):\n",
    "        # Call the constructor of the base class\n",
    "        super().__init__(colour, border_width)\n",
    "        # Add specific attributes for Rectangle\n",
    "        self.length = length\n",
    "        self.width = width\n",
    "\n",
    "\n",
    "class Circle(Shape):\n",
    "    def __init__(self, colour, border_width, radius):\n",
    "        # Call the constructor of the base class\n",
    "        super().__init__(colour, border_width)\n",
    "        # Add specific attribute for Circle\n",
    "        self.radius = radius\n",
    "\n",
    "\n",
    "# Creating instances of Rectangle and Circle\n",
    "rectangle = Rectangle(\"Blue\", 2, 5, 3)\n",
    "circle = Circle(\"Red\", 1, 4)"
   ]
  },
  {
   "cell_type": "code",
   "execution_count": 7,
   "id": "3a4bf936",
   "metadata": {},
   "outputs": [
    {
     "name": "stdout",
     "output_type": "stream",
     "text": [
      "Rectangle Information:\n",
      "Colour: Blue\n",
      "Border Width: 2\n",
      "Length: 5\n",
      "Width: 3\n"
     ]
    }
   ],
   "source": [
    "# Accessing attributes\n",
    "print(\"Rectangle Information:\")\n",
    "print(\"Colour:\", rectangle.colour)\n",
    "print(\"Border Width:\", rectangle.border_width)\n",
    "print(\"Length:\", rectangle.length)\n",
    "print(\"Width:\", rectangle.width)"
   ]
  },
  {
   "cell_type": "code",
   "execution_count": 8,
   "id": "14836d2f",
   "metadata": {},
   "outputs": [
    {
     "name": "stdout",
     "output_type": "stream",
     "text": [
      "\n",
      "Circle Information:\n",
      "Colour: Red\n",
      "Border Width: 1\n",
      "Radius: 4\n"
     ]
    }
   ],
   "source": [
    "print(\"\\nCircle Information:\")\n",
    "print(\"Colour:\", circle.colour)\n",
    "print(\"Border Width:\", circle.border_width)\n",
    "print(\"Radius:\", circle.radius)"
   ]
  },
  {
   "cell_type": "markdown",
   "id": "bf97d39a",
   "metadata": {},
   "source": [
    "## 9. Create a base class called \"Device\" with attributes like \"brand\" and \"model.\" Derive two classes, \"Phone\" and \"Tablet,\" from \"Device.\" Add specific attributes like \"screen_size\" for the \"Phone\" class and \"battery_capacity\" for the \"Tablet\" class."
   ]
  },
  {
   "cell_type": "code",
   "execution_count": 9,
   "id": "82852d2a",
   "metadata": {},
   "outputs": [],
   "source": [
    "class Device:\n",
    "    def __init__(self, brand, model):\n",
    "        self.brand = brand\n",
    "        self.model = model\n",
    "\n",
    "\n",
    "class Phone(Device):\n",
    "    def __init__(self, brand, model, screen_size):\n",
    "        # Call the constructor of the base class\n",
    "        super().__init__(brand, model)\n",
    "        # Add specific attribute for Phone\n",
    "        self.screen_size = screen_size\n",
    "\n",
    "\n",
    "class Tablet(Device):\n",
    "    def __init__(self, brand, model, battery_capacity):\n",
    "        # Call the constructor of the base class\n",
    "        super().__init__(brand, model)\n",
    "        # Add specific attribute for Tablet\n",
    "        self.battery_capacity = battery_capacity\n",
    "\n",
    "\n",
    "# Creating instances of Phone and Tablet\n",
    "phone = Phone(\"Apple\", \"iPhone 14 Pro\", 6.1)\n",
    "tablet = Tablet(\"Samsung\", \"Galaxy Tab S9 Ultra\", \"11200 mah\")"
   ]
  },
  {
   "cell_type": "code",
   "execution_count": 10,
   "id": "6c97780b",
   "metadata": {},
   "outputs": [
    {
     "name": "stdout",
     "output_type": "stream",
     "text": [
      "Phone Information:\n",
      "Brand: Apple\n",
      "Model: iPhone 14 Pro\n",
      "Screen Size: 6.1\n"
     ]
    }
   ],
   "source": [
    "# Accessing attributes\n",
    "print(\"Phone Information:\")\n",
    "print(\"Brand:\", phone.brand)\n",
    "print(\"Model:\", phone.model)\n",
    "print(\"Screen Size:\", phone.screen_size)"
   ]
  },
  {
   "cell_type": "code",
   "execution_count": 11,
   "id": "bdf0fc40",
   "metadata": {},
   "outputs": [
    {
     "name": "stdout",
     "output_type": "stream",
     "text": [
      "\n",
      "Tablet Information:\n",
      "Brand: Samsung\n",
      "Model: Galaxy Tab S9 Ultra\n",
      "Battery Capacity: 11200 mah\n"
     ]
    }
   ],
   "source": [
    "print(\"\\nTablet Information:\")\n",
    "print(\"Brand:\", tablet.brand)\n",
    "print(\"Model:\", tablet.model)\n",
    "print(\"Battery Capacity:\", tablet.battery_capacity)"
   ]
  },
  {
   "cell_type": "markdown",
   "id": "17a20a3a",
   "metadata": {},
   "source": [
    "## 10. Create a base class called \"BankAccount\" with attributes like \"account_number\" and \"balance.\" Derive two classes, \"SavingsAccount\" and \"CheckingAccount,\" from \"BankAccount.\" Add specific methods like \"calculate_interest\" for the \"SavingsAccount\" class and \"deduct_fees\" for the \"CheckingAccount\" class."
   ]
  },
  {
   "cell_type": "code",
   "execution_count": 12,
   "id": "8216ecd0",
   "metadata": {},
   "outputs": [],
   "source": [
    "class BankAccount:\n",
    "    def __init__(self, account_number, balance):\n",
    "        self.account_number = account_number\n",
    "        self.balance = balance\n",
    "\n",
    "\n",
    "class SavingsAccount(BankAccount):\n",
    "    def __init__(self, account_number, balance):\n",
    "        # Call the constructor of the base class\n",
    "        super().__init__(account_number, balance)\n",
    "\n",
    "    def calculate_interest(self, interest_rate):\n",
    "        interest = self.balance * (interest_rate / 100)\n",
    "        self.balance += interest\n",
    "        print(f\"Interest calculated: ${interest:.2f}\")\n",
    "        print(f\"Updated balance: ${self.balance:.2f}\")\n",
    "\n",
    "\n",
    "class CheckingAccount(BankAccount):\n",
    "    def __init__(self, account_number, balance):\n",
    "        # Call the constructor of the base class\n",
    "        super().__init__(account_number, balance)\n",
    "\n",
    "    def deduct_fees(self, fee_amount):\n",
    "        if self.balance >= fee_amount:\n",
    "            self.balance -= fee_amount\n",
    "            print(f\"Fees deducted: ${fee_amount:.2f}\")\n",
    "            print(f\"Updated balance: ${self.balance:.2f}\")\n",
    "        else:\n",
    "            print(\"Insufficient balance to deduct fees.\")"
   ]
  },
  {
   "cell_type": "code",
   "execution_count": 13,
   "id": "6e4f3039",
   "metadata": {},
   "outputs": [],
   "source": [
    "# Creating instances of SavingsAccount and CheckingAccount\n",
    "savings_account = SavingsAccount(\"SA123456\", 5000)\n",
    "checking_account = CheckingAccount(\"CA789012\", 2000)"
   ]
  },
  {
   "cell_type": "code",
   "execution_count": 14,
   "id": "41e6d307",
   "metadata": {},
   "outputs": [
    {
     "name": "stdout",
     "output_type": "stream",
     "text": [
      "Savings Account Information:\n",
      "Interest calculated: $100.00\n",
      "Updated balance: $5100.00\n"
     ]
    }
   ],
   "source": [
    "# Calling specific methods for each account type\n",
    "print(\"Savings Account Information:\")\n",
    "savings_account.calculate_interest(2)  # 2% interest rate"
   ]
  },
  {
   "cell_type": "code",
   "execution_count": 15,
   "id": "cd083332",
   "metadata": {},
   "outputs": [
    {
     "name": "stdout",
     "output_type": "stream",
     "text": [
      "\n",
      "Checking Account Information:\n",
      "Fees deducted: $20.00\n",
      "Updated balance: $1980.00\n"
     ]
    }
   ],
   "source": [
    "print(\"\\nChecking Account Information:\")\n",
    "checking_account.deduct_fees(20)  # $20 fees deduction"
   ]
  }
 ],
 "metadata": {
  "kernelspec": {
   "display_name": "Python 3 (ipykernel)",
   "language": "python",
   "name": "python3"
  },
  "language_info": {
   "codemirror_mode": {
    "name": "ipython",
    "version": 3
   },
   "file_extension": ".py",
   "mimetype": "text/x-python",
   "name": "python",
   "nbconvert_exporter": "python",
   "pygments_lexer": "ipython3",
   "version": "3.11.5"
  }
 },
 "nbformat": 4,
 "nbformat_minor": 5
}
